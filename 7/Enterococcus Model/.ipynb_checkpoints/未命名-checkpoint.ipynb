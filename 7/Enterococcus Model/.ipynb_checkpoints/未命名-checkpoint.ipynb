{
 "cells": [
  {
   "cell_type": "code",
   "execution_count": 3,
   "id": "946a9f15-066f-4a50-b981-d9940183f329",
   "metadata": {},
   "outputs": [
    {
     "name": "stdout",
     "output_type": "stream",
     "text": [
      "1.9757922548688307\n",
      "42.933792820077244\n",
      "1.0232826937440291\n",
      "34.600935915166616\n",
      "0.3643015938349179\n",
      "30.308496053983056\n",
      "0.14476860298140096\n",
      "34.96243208295723\n",
      "0.44954966788742284\n",
      "34.189211713932224\n",
      "0.3178291516150854\n",
      "34.06114542370183\n",
      "1.2227057358415512\n",
      "29.955760258914587\n",
      "1.766406807091553\n",
      "42.9866748297611\n",
      "0.2312096367086462\n",
      "35.565060073237596\n",
      "0.6734214242143411\n",
      "24.557908603705354\n"
     ]
    }
   ],
   "source": [
    "import random\n",
    "import scipy\n",
    "import math\n",
    "from scipy import stats\n",
    "#This is a tester, and use `6.6.Day.Without.Rain.ENTEROCOCCUS.File` as the test file\n",
    "\n",
    "n = 0\n",
    "while (n < 10):\n",
    "  # -------------------- Generate random percentile --------------------\n",
    "  random_percentile_one = random.uniform(0, 1)\n",
    "  random_percentile_two = random.uniform(0, 1)\n",
    "  random_percentile_three = random.uniform(0, 1)\n",
    "  random_percentile_four = random.uniform(0, 1)\n",
    "  random_percentile_five = random.uniform(0, 1)\n",
    "\n",
    "  #Calculate concentration\n",
    "  concentration = (stats.lognorm.ppf(random_percentile_one, 1/0.9335309, loc=0, scale= math.exp(2.3192296)))/100\n",
    "  \n",
    "  #------------------------------- I Oral ------------------------------\n",
    "  #Calculate T_exposure\n",
    "  T_exposure = stats.rayleigh.ppf(random_percentile_two, loc=0, scale=58.3081/60)\n",
    "  print(T_exposure)\n",
    "\n",
    "  #Calculate R_ingestion\n",
    "  #Use beta distribution instead \n",
    "  R_ingestion = stats.triang.ppf(random_percentile_three, (35 - 20)/(50 - 20), loc=20, scale=(50 - 20))\n",
    "  print(R_ingestion)\n",
    "\n",
    "  I_oral = T_exposure * R_ingestion\n",
    "\n",
    "  #------------------------------- D Oral ------------------------------\n",
    "  D_oral = I_oral * concentration\n",
    "\n",
    "  #------------------------ Dose Response Model ------------------------\n",
    "  k = stats.triang.ppf(random_percentile_four, (1442 - 177)/(14427 - 177), loc=177, scale=(14427 - 177))\n",
    "  psi = stats.triang.ppf(random_percentile_five, (0.2 - 0.1)/(0.3 - 0.1), loc=0.1, scale=(0.3 - 0.1))\n",
    "  GI_prob = (1 - math.exp((D_oral * -1)/k)) * psi\n",
    "\n",
    "  n += 1"
   ]
  },
  {
   "cell_type": "code",
   "execution_count": 4,
   "id": "a7d699f2-72d7-4a25-9286-154b1fe7bf1e",
   "metadata": {},
   "outputs": [
    {
     "name": "stdout",
     "output_type": "stream",
     "text": [
      "fuck u\n"
     ]
    }
   ],
   "source": [
    "print(\"fuck u\")"
   ]
  },
  {
   "cell_type": "code",
   "execution_count": 6,
   "id": "d38e869d-384f-4375-9229-0dabe109cf71",
   "metadata": {},
   "outputs": [
    {
     "name": "stdout",
     "output_type": "stream",
     "text": [
      "3\n"
     ]
    }
   ],
   "source": [
    "x=3\n",
    "print(x)\n"
   ]
  },
  {
   "cell_type": "code",
   "execution_count": 7,
   "id": "41419650-054e-4ea4-b4d4-574b9d7deb6d",
   "metadata": {},
   "outputs": [
    {
     "name": "stdout",
     "output_type": "stream",
     "text": [
      "4\n"
     ]
    }
   ],
   "source": [
    "y=x+1\n",
    "print(y)"
   ]
  },
  {
   "cell_type": "code",
   "execution_count": null,
   "id": "b1fdc364-531d-421b-a792-bec5284fa153",
   "metadata": {},
   "outputs": [],
   "source": []
  }
 ],
 "metadata": {
  "kernelspec": {
   "display_name": "Python 3 (ipykernel)",
   "language": "python",
   "name": "python3"
  },
  "language_info": {
   "codemirror_mode": {
    "name": "ipython",
    "version": 3
   },
   "file_extension": ".py",
   "mimetype": "text/x-python",
   "name": "python",
   "nbconvert_exporter": "python",
   "pygments_lexer": "ipython3",
   "version": "3.8.5"
  }
 },
 "nbformat": 4,
 "nbformat_minor": 5
}
